{
 "cells": [
  {
   "cell_type": "raw",
   "metadata": {},
   "source": [
    "---\n",
    "title: \"Lesson 1 - Intro to Python\"\n",
    "subtitle: \"Intro to Data Science for Social Scientists\"\n",
    "format:\n",
    "  html:\n",
    "    toc: true\n",
    "    html-math-method: katex\n",
    "    css: styles.css\n",
    "comments:                         \n",
    "  utterances:\n",
    "    repo: quarto-dev/quarto-web\n",
    "---"
   ]
  },
  {
   "attachments": {},
   "cell_type": "markdown",
   "metadata": {},
   "source": [
    "![*Irises*](images\\session_001\\van_gogh_1_banner.jpg)"
   ]
  },
  {
   "attachments": {},
   "cell_type": "markdown",
   "metadata": {},
   "source": [
    "Today, we'll cover the following material:\n",
    "\n",
    "1. Python's history, relevance and usefulness\n",
    "2. Arithmetic Operators + Comments + Basic Functions\n",
    "3. Variables\n",
    "4. Elementary Data Types (`int`, `float`, `str`)\n",
    "5. String indexing & slicing + Basic string operations\n",
    "6. Comparison operators + Boolean datatype\n",
    "7. Logical Operators\n",
    "8. Lists\n",
    "9. Homework\n",
    "10. Additional Readings"
   ]
  },
  {
   "cell_type": "markdown",
   "metadata": {},
   "source": [
    "## 1. Python's history, relevance and usefulness <a class=\"anchor\" id=\"chapter1\"></a>"
   ]
  },
  {
   "attachments": {},
   "cell_type": "markdown",
   "metadata": {},
   "source": [
    "![*Wheat Field with Cypresses*](images\\session_001\\van_gogh_4_banner.jpg)"
   ]
  },
  {
   "cell_type": "markdown",
   "metadata": {},
   "source": [
    "> Python is a widely-used general-purpose, high-level programming language. It was initially designed by Guido van Rossum in 1991 and developed by Python Software Foundation. It was mainly developed for emphasis on code readability, and its syntax allows programmers to express concepts in fewer lines of code.\n",
    "\n",
    "> What started as a hobby project, soon became a general purpose programming language: nowadays, you can use Python to build practically any piece of software. \n",
    ">\n",
    "> **But how did this happen?**\n",
    "> \n",
    "> Well, first of all, Python is open source. It's free to use.\n",
    ">\n",
    "> Second, it's very easy to build packages in Python, which is code that you can share with other people to solve specific problems. Throughout time, more and more of these packages specifically built for data science have been developed. Suppose you want to make some fancy visualizations of your company's sales. There's a package for that. Or what about connecting to a database to analyze sensor measurements? There's also a package for that. People often refer to Python as the swiss army knife of programming languages as you can do almost anything with it."
   ]
  },
  {
   "cell_type": "markdown",
   "metadata": {},
   "source": [
    "## 2. Arithmetic Operators + Comments + Basic Functions <a class=\"anchor\" id=\"chapter2\"></a>"
   ]
  },
  {
   "attachments": {},
   "cell_type": "markdown",
   "metadata": {},
   "source": [
    "![*Bedroom in Arles*](images\\session_001\\van_gogh_2_banner.jpg)"
   ]
  },
  {
   "cell_type": "code",
   "execution_count": null,
   "metadata": {},
   "outputs": [
    {
     "data": {
      "text/plain": [
       "3"
      ]
     },
     "metadata": {},
     "output_type": "display_data"
    }
   ],
   "source": [
    "## Multiplication\n",
    "1 + 2"
   ]
  },
  {
   "cell_type": "markdown",
   "metadata": {},
   "source": [
    "In Python, we use the hash sign (`#`) to write comments.\n",
    "\n",
    "Everything written after a hash sign isn’t evaluated - it’s ignored.\n",
    "\n",
    "I tend to use two hash signs for my comments, and one for ignoring problematic bits of code before I delete them.\n",
    "\n",
    "This method only works for one-line comments, though.\n",
    "\n",
    "We can also write multi-line comments, but we’ll talk about it more in the later sessions of the course.\n",
    "\n",
    "\n",
    "> <p style=\"font-size:20px\">🏠 Can you find out how to write multi-line comments in Python?<br>Write a reproducible example in the forum.</p>"
   ]
  },
  {
   "cell_type": "code",
   "execution_count": null,
   "metadata": {},
   "outputs": [
    {
     "data": {
      "text/plain": [
       "10"
      ]
     },
     "metadata": {},
     "output_type": "display_data"
    }
   ],
   "source": [
    "## Multiplication\n",
    "2 * 5"
   ]
  },
  {
   "cell_type": "code",
   "execution_count": null,
   "metadata": {},
   "outputs": [
    {
     "data": {
      "text/plain": [
       "5.0"
      ]
     },
     "metadata": {},
     "output_type": "display_data"
    }
   ],
   "source": [
    "## Division\n",
    "10 / 2"
   ]
  },
  {
   "cell_type": "code",
   "execution_count": null,
   "metadata": {},
   "outputs": [
    {
     "ename": "ZeroDivisionError",
     "evalue": "division by zero",
     "output_type": "error",
     "traceback": [
      "\u001b[1;31m---------------------------------------------------------------------------\u001b[0m\n",
      "\u001b[1;31mZeroDivisionError\u001b[0m                         Traceback (most recent call last)\n",
      "\u001b[1;32m<ipython-input-3-f8bcac824ee5>\u001b[0m in \u001b[0;36m<module>\u001b[1;34m\u001b[0m\n",
      "\u001b[0;32m      1\u001b[0m \u001b[1;31m## Be careful when attempting to divide by zero!\u001b[0m\u001b[1;33m\u001b[0m\u001b[1;33m\u001b[0m\u001b[0m\n",
      "\u001b[1;32m----> 2\u001b[1;33m \u001b[1;36m10\u001b[0m \u001b[1;33m/\u001b[0m \u001b[1;36m0\u001b[0m\u001b[1;33m\u001b[0m\u001b[1;33m\u001b[0m\u001b[0m\n",
      "\u001b[0m\n",
      "\u001b[1;31mZeroDivisionError\u001b[0m: division by zero"
     ]
    }
   ],
   "source": [
    "## Be careful when attempting to divide by zero! \n",
    "## Computers really don't like it :')\n",
    "10 / 0"
   ]
  },
  {
   "cell_type": "code",
   "execution_count": null,
   "metadata": {},
   "outputs": [
    {
     "data": {
      "text/plain": [
       "0"
      ]
     },
     "metadata": {},
     "output_type": "display_data"
    }
   ],
   "source": [
    "## \"Modulo\" operator\n",
    "10 % 2 ## This operation gives us the remainder of a division\n",
    "\n",
    "## What is the result of the operation \"9 % 2\"? "
   ]
  },
  {
   "cell_type": "code",
   "execution_count": null,
   "metadata": {},
   "outputs": [
    {
     "name": "stdout",
     "output_type": "stream",
     "text": [
      "81\n",
      "729\n"
     ]
    }
   ],
   "source": [
    "## Exponents\n",
    "\n",
    "print(9 ** 2) ## Introducing the \"print()\" function\n",
    "print(9 ** 3)"
   ]
  },
  {
   "cell_type": "markdown",
   "metadata": {},
   "source": [
    "- Learning more about functions → `help()` function\n",
    "- Understanding the documentation"
   ]
  },
  {
   "cell_type": "code",
   "execution_count": null,
   "metadata": {},
   "outputs": [
    {
     "name": "stdout",
     "output_type": "stream",
     "text": [
      "Help on built-in function print in module builtins:\n",
      "\n",
      "print(...)\n",
      "    print(value, ..., sep=' ', end='\\n', file=sys.stdout, flush=False)\n",
      "    \n",
      "    Prints the values to a stream, or to sys.stdout by default.\n",
      "    Optional keyword arguments:\n",
      "    file:  a file-like object (stream); defaults to the current sys.stdout.\n",
      "    sep:   string inserted between values, default a space.\n",
      "    end:   string appended after the last value, default a newline.\n",
      "    flush: whether to forcibly flush the stream.\n",
      "\n"
     ]
    }
   ],
   "source": [
    "help(print)"
   ]
  },
  {
   "cell_type": "code",
   "execution_count": null,
   "metadata": {},
   "outputs": [
    {
     "data": {
      "text/plain": [
       "3.0"
      ]
     },
     "metadata": {},
     "output_type": "display_data"
    }
   ],
   "source": [
    "## How do we get the square root of a number?\n",
    "\n",
    "9 ** (1 / 2) ## Order of operations matters ## Try out: \"9 ** 1 / 2\""
   ]
  },
  {
   "cell_type": "markdown",
   "metadata": {},
   "source": [
    "> <p style=\"font-size:20px\">🏠 There's a nice library we can use to make the syntax for finding the square root of a number a bit nicer. Can you find this library and demonstrate how to use it for finding the square root of 9?</p>"
   ]
  },
  {
   "cell_type": "code",
   "execution_count": null,
   "metadata": {},
   "outputs": [
    {
     "name": "stdout",
     "output_type": "stream",
     "text": [
      "10.90625\n",
      "10.90625\n"
     ]
    }
   ],
   "source": [
    "## Order of operations\n",
    "\n",
    "print(1 + 2 * 5 - 6 / 8 ** 2)\n",
    "\n",
    "## Using brackets isn't necessary, but can make your code more readable\n",
    "print(1 + (2 * 5) - (6 / (8 ** 2)))\n",
    "\n",
    "## Always make sure each opening bracket is paired with a closing bracket\n",
    "## Most IDEs will help you with this :)"
   ]
  },
  {
   "cell_type": "markdown",
   "metadata": {},
   "source": [
    "## 3. Variables <a class=\"anchor\" id=\"chapter3\"></a>"
   ]
  },
  {
   "attachments": {},
   "cell_type": "markdown",
   "metadata": {},
   "source": [
    "![*Wheatfield with Crows*](images\\session_001\\van_gogh_3_banner.jpg)"
   ]
  },
  {
   "cell_type": "code",
   "execution_count": null,
   "metadata": {},
   "outputs": [],
   "source": [
    "distance = 180 ## Our first variable. Hooray!\n",
    "\n",
    "time = 1.5 ## Our second variable. Yuppie!"
   ]
  },
  {
   "cell_type": "code",
   "execution_count": null,
   "metadata": {},
   "outputs": [
    {
     "data": {
      "text/plain": [
       "180"
      ]
     },
     "metadata": {},
     "output_type": "display_data"
    }
   ],
   "source": [
    "distance ## Python keeps our variables in memory! We're safe :)"
   ]
  },
  {
   "cell_type": "code",
   "execution_count": null,
   "metadata": {},
   "outputs": [
    {
     "data": {
      "text/plain": [
       "120.0"
      ]
     },
     "metadata": {},
     "output_type": "display_data"
    }
   ],
   "source": [
    "180 / 1.5"
   ]
  },
  {
   "cell_type": "code",
   "execution_count": null,
   "metadata": {},
   "outputs": [
    {
     "data": {
      "text/plain": [
       "120.0"
      ]
     },
     "metadata": {},
     "output_type": "display_data"
    }
   ],
   "source": [
    "distance / time"
   ]
  },
  {
   "cell_type": "code",
   "execution_count": null,
   "metadata": {},
   "outputs": [
    {
     "data": {
      "text/plain": [
       "120.0"
      ]
     },
     "metadata": {},
     "output_type": "display_data"
    }
   ],
   "source": [
    "#distance = 180 \n",
    "#time = 1.5 \n",
    "speed = distance / time ## saving the result in a new variable\n",
    "speed"
   ]
  },
  {
   "cell_type": "code",
   "execution_count": null,
   "metadata": {},
   "outputs": [
    {
     "data": {
      "text/plain": [
       "72.0"
      ]
     },
     "metadata": {},
     "output_type": "display_data"
    }
   ],
   "source": [
    "#distance = 180 ## this variable stays unchanged\n",
    "time = 2.5 ## this one we do change\n",
    "speed = distance / time \n",
    "speed ## this one changes accordingly!"
   ]
  },
  {
   "cell_type": "markdown",
   "metadata": {},
   "source": [
    "## 4. Elementary Data Types (`int`, `float`, `str`) <a class=\"anchor\" id=\"chapter4\"></a>"
   ]
  },
  {
   "attachments": {},
   "cell_type": "markdown",
   "metadata": {},
   "source": [
    "![*Enclosed Field with Rising Sun*](images\\session_001\\van_gogh_5.1_banner.jpg)"
   ]
  },
  {
   "cell_type": "code",
   "execution_count": null,
   "metadata": {},
   "outputs": [
    {
     "data": {
      "text/plain": [
       "int"
      ]
     },
     "metadata": {},
     "output_type": "display_data"
    }
   ],
   "source": [
    "## Integers\n",
    "type(distance) ## Introducing the \"type()\" function"
   ]
  },
  {
   "cell_type": "code",
   "execution_count": null,
   "metadata": {},
   "outputs": [
    {
     "data": {
      "text/plain": [
       "180"
      ]
     },
     "metadata": {},
     "output_type": "display_data"
    }
   ],
   "source": [
    "distance"
   ]
  },
  {
   "cell_type": "code",
   "execution_count": null,
   "metadata": {},
   "outputs": [
    {
     "data": {
      "text/plain": [
       "float"
      ]
     },
     "metadata": {},
     "output_type": "display_data"
    }
   ],
   "source": [
    "## Floats\n",
    "type(speed)"
   ]
  },
  {
   "cell_type": "code",
   "execution_count": null,
   "metadata": {},
   "outputs": [
    {
     "data": {
      "text/plain": [
       "72.0"
      ]
     },
     "metadata": {},
     "output_type": "display_data"
    }
   ],
   "source": [
    "speed"
   ]
  },
  {
   "cell_type": "markdown",
   "metadata": {},
   "source": [
    "So far, we’ve only worked with numeric data types (integers and floats).\n",
    "\n",
    "There are, however, many other types of data we can (and will often) use.\n",
    "\n",
    "> <p style=\"font-size:20px\">❔ Can you think of other ways how information can be stored?</p>"
   ]
  },
  {
   "cell_type": "code",
   "execution_count": null,
   "metadata": {},
   "outputs": [
    {
     "data": {
      "text/plain": [
       "'Hello World'"
      ]
     },
     "metadata": {},
     "output_type": "display_data"
    }
   ],
   "source": [
    "\"Hello World\" ## Introducing strings!"
   ]
  },
  {
   "cell_type": "code",
   "execution_count": null,
   "metadata": {},
   "outputs": [
    {
     "name": "stdout",
     "output_type": "stream",
     "text": [
      "Hello World\n",
      "How's everyone doing?\n",
      "It is okay, thanks for checking\n"
     ]
    }
   ],
   "source": [
    "print(\"Hello World\")\n",
    "print(\"How's everyone doing?\") ## Using \"\" + '\n",
    "print('It is okay, thanks for checking') ## Using '' instead of \"\""
   ]
  },
  {
   "cell_type": "code",
   "execution_count": null,
   "metadata": {},
   "outputs": [
    {
     "ename": "SyntaxError",
     "evalue": "invalid syntax (<ipython-input-25-9d7f84d1f160>, line 1)",
     "output_type": "error",
     "traceback": [
      "\u001b[1;36m  File \u001b[1;32m\"<ipython-input-25-9d7f84d1f160>\"\u001b[1;36m, line \u001b[1;32m1\u001b[0m\n",
      "\u001b[1;33m    print('it's about to get strange') ## Yes it is -> this gives us an error. Why?\u001b[0m\n",
      "\u001b[1;37m              ^\u001b[0m\n",
      "\u001b[1;31mSyntaxError\u001b[0m\u001b[1;31m:\u001b[0m invalid syntax\n"
     ]
    }
   ],
   "source": [
    "print('it's about to get strange') ## Yes it is -> this gives us an error. Why?"
   ]
  },
  {
   "cell_type": "code",
   "execution_count": null,
   "metadata": {},
   "outputs": [
    {
     "name": "stdout",
     "output_type": "stream",
     "text": [
      "Hello! How's it going?\n",
      "<class 'str'>\n"
     ]
    }
   ],
   "source": [
    "## Now, let's define a variable that contains string data\n",
    "my_string = \"Hello! How's it going?\"\n",
    "print(my_string)\n",
    "print(type(my_string)) ## Nesting functions. Be sure the brackets are all paired up"
   ]
  },
  {
   "cell_type": "markdown",
   "metadata": {},
   "source": [
    "- Reserved key words → Why I didn’t name my variable just `string`, or `str`\n",
    "- Naming conventions → I’d advise against: `my.string`, as well as:\n",
    "  - `my-string`, \n",
    "  - `MyString`, \n",
    "  - `myString`, \n",
    "  - `MYSTRING` \n",
    "  - and everything in between. \n",
    "- If the name includes multiple words, use underscore to delimit them.\n",
    "    - Is the name clear and understandable? Is it short and concise?"
   ]
  },
  {
   "cell_type": "code",
   "execution_count": null,
   "metadata": {},
   "outputs": [
    {
     "name": "stdout",
     "output_type": "stream",
     "text": [
      "Hello!How it's going?\n",
      "Hello!Hello!Hello!How it's going?How it's going?\n"
     ]
    }
   ],
   "source": [
    "## Operations in Python can work across different datatypes\n",
    "## However, they behave differently (givr different results)...\n",
    "## ... when used with different datatypes\n",
    "\n",
    "a = \"Hello!\"\n",
    "b = \"How it's going?\"\n",
    "print(a + b)\n",
    "print((a * 3) + (b * 2))"
   ]
  },
  {
   "cell_type": "code",
   "execution_count": null,
   "metadata": {},
   "outputs": [
    {
     "ename": "TypeError",
     "evalue": "can only concatenate str (not \"int\") to str",
     "output_type": "error",
     "traceback": [
      "\u001b[1;31m---------------------------------------------------------------------------\u001b[0m\n",
      "\u001b[1;31mTypeError\u001b[0m                                 Traceback (most recent call last)\n",
      "\u001b[1;32m<ipython-input-30-955d584da32d>\u001b[0m in \u001b[0;36m<module>\u001b[1;34m\u001b[0m\n",
      "\u001b[1;32m----> 1\u001b[1;33m \u001b[0mprint\u001b[0m\u001b[1;33m(\u001b[0m\u001b[0ma\u001b[0m \u001b[1;33m+\u001b[0m \u001b[1;36m202\u001b[0m\u001b[1;33m)\u001b[0m \u001b[1;31m## Be careful when mixing datatypes. A common cause of errors!\u001b[0m\u001b[1;33m\u001b[0m\u001b[1;33m\u001b[0m\u001b[0m\n",
      "\u001b[0m\n",
      "\u001b[1;31mTypeError\u001b[0m: can only concatenate str (not \"int\") to str"
     ]
    }
   ],
   "source": [
    "print(a + 202) ## Be careful when mixing datatypes. A common cause of errors! "
   ]
  },
  {
   "cell_type": "markdown",
   "metadata": {},
   "source": [
    "## 5. String indexing & slicing + Basic string operations <a class=\"anchor\" id=\"chapter5\"></a>"
   ]
  },
  {
   "attachments": {},
   "cell_type": "markdown",
   "metadata": {},
   "source": [
    "![*The Sower*](images\\session_001\\van_gogh_6.1_banner.jpg)"
   ]
  },
  {
   "attachments": {},
   "cell_type": "markdown",
   "metadata": {},
   "source": [
    "| P  | y  | t  | h  |  o | n  |\n",
    "|:---:|:---:|:---:|:---:|:---:|:---:|\n",
    "| 0  | 1  |  2 |  3 |4   |5   |\n",
    "| -6  | -5  | -4  | -3  | -2  | -1  |"
   ]
  },
  {
   "cell_type": "code",
   "execution_count": null,
   "metadata": {},
   "outputs": [
    {
     "data": {
      "text/plain": [
       "'I lov'"
      ]
     },
     "metadata": {},
     "output_type": "display_data"
    }
   ],
   "source": [
    "## Indexing strings\n",
    "\n",
    "a = \"I love Python\"\n",
    "a[:5] ## same as a[0:5] ## goes from the 0th element and stops right before the 5th"
   ]
  },
  {
   "cell_type": "code",
   "execution_count": null,
   "metadata": {},
   "outputs": [
    {
     "name": "stdout",
     "output_type": "stream",
     "text": [
      "lov\n",
      "love Python\n",
      "I love Python\n",
      "Ilv yhn\n",
      "nohtyP evol I\n",
      "I\n"
     ]
    }
   ],
   "source": [
    "## General indexing syntax: \n",
    "## string[start_here_include : stop_here_exclude : steps]\n",
    "\n",
    "a = \"I love Python\"\n",
    "print(a[2:5])\n",
    "print(a[2:]) ## Goes from the 2nd index to the end\n",
    "print(a[::1]) ## All as usuall ## same as \"a[::]\", same as \"a\"\n",
    "print(a[::2]) ## Prints every second letter\n",
    "print(a[::-1]) ## Reverses the order of the letters\n",
    "print(a[0]) ## The first letter"
   ]
  },
  {
   "cell_type": "code",
   "execution_count": null,
   "metadata": {},
   "outputs": [
    {
     "name": "stdout",
     "output_type": "stream",
     "text": [
      "n\n",
      "n\n"
     ]
    }
   ],
   "source": [
    "## How can we print/extract the last letter\n",
    "\n",
    "a = \"I love Python\"\n",
    "print(a[12]) ## Counting -> not the best idea -> error-prone; the string can change\n",
    "print(a[-1]) ## The last letter -> much better"
   ]
  },
  {
   "cell_type": "code",
   "execution_count": null,
   "metadata": {},
   "outputs": [
    {
     "ename": "IndexError",
     "evalue": "string index out of range",
     "output_type": "error",
     "traceback": [
      "\u001b[1;31m---------------------------------------------------------------------------\u001b[0m\n",
      "\u001b[1;31mIndexError\u001b[0m                                Traceback (most recent call last)\n",
      "\u001b[1;32m<ipython-input-35-d7be7cfe028a>\u001b[0m in \u001b[0;36m<module>\u001b[1;34m\u001b[0m\n",
      "\u001b[0;32m      1\u001b[0m \u001b[1;31m## Stay within the range - A common source of errors!\u001b[0m\u001b[1;33m\u001b[0m\u001b[1;33m\u001b[0m\u001b[0m\n",
      "\u001b[0;32m      2\u001b[0m \u001b[1;33m\u001b[0m\u001b[0m\n",
      "\u001b[1;32m----> 3\u001b[1;33m \u001b[0mprint\u001b[0m\u001b[1;33m(\u001b[0m\u001b[0ma\u001b[0m\u001b[1;33m[\u001b[0m\u001b[1;36m13\u001b[0m\u001b[1;33m]\u001b[0m\u001b[1;33m)\u001b[0m\u001b[1;33m\u001b[0m\u001b[1;33m\u001b[0m\u001b[0m\n",
      "\u001b[0m\n",
      "\u001b[1;31mIndexError\u001b[0m: string index out of range"
     ]
    }
   ],
   "source": [
    "## Stay within the range - A common source of errors!\n",
    "\n",
    "print(a[13])"
   ]
  },
  {
   "cell_type": "code",
   "execution_count": null,
   "metadata": {},
   "outputs": [
    {
     "name": "stdout",
     "output_type": "stream",
     "text": [
      "13\n",
      "n\n"
     ]
    }
   ],
   "source": [
    "## Introducing the \"len()\" function\n",
    "\n",
    "a = \"I love Python\"\n",
    "print(len(a))\n",
    "\n",
    "print(a[len(a) - 1]) ## There's our last letter again!"
   ]
  },
  {
   "cell_type": "markdown",
   "metadata": {},
   "source": [
    "### Basic string operations"
   ]
  },
  {
   "cell_type": "code",
   "execution_count": null,
   "metadata": {},
   "outputs": [
    {
     "data": {
      "text/plain": [
       "'I LOVE PYTHON'"
      ]
     },
     "metadata": {},
     "output_type": "display_data"
    }
   ],
   "source": [
    "a = \"I love Python\"\n",
    "a.upper()"
   ]
  },
  {
   "attachments": {},
   "cell_type": "markdown",
   "metadata": {},
   "source": [
    "- Difference between functions and methods!"
   ]
  },
  {
   "cell_type": "code",
   "execution_count": null,
   "metadata": {},
   "outputs": [
    {
     "data": {
      "text/plain": [
       "'I love Python'"
      ]
     },
     "metadata": {},
     "output_type": "display_data"
    }
   ],
   "source": [
    "a ## str.upper() method doesn't operate \"in place\"! "
   ]
  },
  {
   "cell_type": "code",
   "execution_count": null,
   "metadata": {},
   "outputs": [
    {
     "data": {
      "text/plain": [
       "'I LOVE PYTHON'"
      ]
     },
     "metadata": {},
     "output_type": "display_data"
    }
   ],
   "source": [
    "a = a.upper()\n",
    "a"
   ]
  },
  {
   "cell_type": "code",
   "execution_count": null,
   "metadata": {},
   "outputs": [
    {
     "data": {
      "text/plain": [
       "'i love python'"
      ]
     },
     "metadata": {},
     "output_type": "display_data"
    }
   ],
   "source": [
    "a.lower()"
   ]
  },
  {
   "cell_type": "code",
   "execution_count": null,
   "metadata": {},
   "outputs": [
    {
     "data": {
      "text/plain": [
       "['I', 'LOVE', 'PYTHON']"
      ]
     },
     "metadata": {},
     "output_type": "display_data"
    }
   ],
   "source": [
    "a.split(\" \") ## returns a list!"
   ]
  },
  {
   "cell_type": "code",
   "execution_count": null,
   "metadata": {},
   "outputs": [
    {
     "data": {
      "text/plain": [
       "'I love python'"
      ]
     },
     "metadata": {},
     "output_type": "display_data"
    }
   ],
   "source": [
    "a.capitalize()"
   ]
  },
  {
   "attachments": {},
   "cell_type": "markdown",
   "metadata": {},
   "source": [
    "> <p style=\"font-size:20px\">🏠 Which other string methods are there? Find a few useful examples, and explain them in a comment!</p>"
   ]
  },
  {
   "cell_type": "markdown",
   "metadata": {},
   "source": [
    "Before we investigate a few more data types, let’s discuss some Comparison Operators."
   ]
  },
  {
   "cell_type": "markdown",
   "metadata": {},
   "source": [
    "## 6. Comparison operators + Boolean datatype <a class=\"anchor\" id=\"chapter6\"></a>"
   ]
  },
  {
   "attachments": {},
   "cell_type": "markdown",
   "metadata": {},
   "source": [
    "![*Starry Night Over the Rhône*](images\\session_001\\van_gogh_7_banner.jpg)"
   ]
  },
  {
   "cell_type": "code",
   "execution_count": null,
   "metadata": {},
   "outputs": [
    {
     "data": {
      "text/plain": [
       "False"
      ]
     },
     "metadata": {},
     "output_type": "display_data"
    }
   ],
   "source": [
    "a = 5\n",
    "b = 7\n",
    "\n",
    "a > b"
   ]
  },
  {
   "cell_type": "code",
   "execution_count": null,
   "metadata": {},
   "outputs": [
    {
     "name": "stdout",
     "output_type": "stream",
     "text": [
      "False\n",
      "False\n",
      "True\n"
     ]
    }
   ],
   "source": [
    "print(b < a)\n",
    "print(b == a)\n",
    "print(b != a)"
   ]
  },
  {
   "cell_type": "code",
   "execution_count": null,
   "metadata": {},
   "outputs": [
    {
     "name": "stdout",
     "output_type": "stream",
     "text": [
      "True\n",
      "False\n"
     ]
    }
   ],
   "source": [
    "print(b >= a)\n",
    "print(b <= a)"
   ]
  },
  {
   "cell_type": "code",
   "execution_count": null,
   "metadata": {},
   "outputs": [
    {
     "name": "stdout",
     "output_type": "stream",
     "text": [
      "False\n",
      "<class 'bool'>\n",
      "True\n",
      "<class 'bool'>\n"
     ]
    }
   ],
   "source": [
    "## Introducing a new datatype: Say hello to booleans!\n",
    "\n",
    "c = a > b\n",
    "print(c)\n",
    "print(type(c))\n",
    "\n",
    "d = a < b\n",
    "print(d)\n",
    "print(type(d))"
   ]
  },
  {
   "cell_type": "markdown",
   "metadata": {},
   "source": [
    "## 7. Logical Operators <a class=\"anchor\" id=\"chapter7\"></a>"
   ]
  },
  {
   "attachments": {},
   "cell_type": "markdown",
   "metadata": {},
   "source": [
    "![*Prisoners Exercising*](images\\session_001\\van_gogh_8_banner.jpg)"
   ]
  },
  {
   "cell_type": "code",
   "execution_count": null,
   "metadata": {},
   "outputs": [],
   "source": [
    "a = True\n",
    "b = False"
   ]
  },
  {
   "cell_type": "code",
   "execution_count": null,
   "metadata": {},
   "outputs": [
    {
     "name": "stdout",
     "output_type": "stream",
     "text": [
      "True\n",
      "False\n",
      "False\n",
      "True\n",
      "False\n",
      "True\n",
      "True\n"
     ]
    }
   ],
   "source": [
    "print(a and a)\n",
    "print(a and b)\n",
    "\n",
    "print(b and b)\n",
    "\n",
    "print(a or b)\n",
    "\n",
    "print(not a) \n",
    "print(not b)\n",
    "\n",
    "print(a and not b)"
   ]
  },
  {
   "cell_type": "markdown",
   "metadata": {},
   "source": [
    "## 8. Lists <a class=\"anchor\" id=\"chapter8\"></a>"
   ]
  },
  {
   "attachments": {},
   "cell_type": "markdown",
   "metadata": {},
   "source": [
    "![*The Novel Reader*](images\\session_001\\van_gogh_9_banner.jpg)"
   ]
  },
  {
   "cell_type": "code",
   "execution_count": null,
   "metadata": {},
   "outputs": [
    {
     "name": "stdout",
     "output_type": "stream",
     "text": [
      "[1, 2, 3, 4, 5]\n",
      "<class 'list'>\n"
     ]
    }
   ],
   "source": [
    "my_list = [1, 2, 3, 4, 5]\n",
    "print(my_list)\n",
    "print(type(my_list))"
   ]
  },
  {
   "cell_type": "code",
   "execution_count": null,
   "metadata": {},
   "outputs": [
    {
     "name": "stdout",
     "output_type": "stream",
     "text": [
      "[1, 2, 3, 4, 5]\n",
      "['Hello', 'Everyone', 'I', '<3', 'lists']\n",
      "[1, 'a', 2, 'b', 3, 4, 5, 'c']\n",
      "[[1, 2, 3, 4, 5], ['Hello', 'Everyone', 'I', '<3', 'lists'], [1, 'a', 2, 'b', 3, 4, 5, 'c']]\n"
     ]
    }
   ],
   "source": [
    "## List can hold elements of various data types (at the same time)\n",
    "\n",
    "list_of_nums = [1, 2, 3, 4, 5]\n",
    "print(list_of_nums)\n",
    "\n",
    "list_of_strings = [\"Hello\", \"Everyone\", \"I\", \"<3\", \"lists\"]\n",
    "print(list_of_strings)\n",
    "\n",
    "mixed_list = [1, \"a\", 2, \"b\", 3, 4, 5, \"c\"]\n",
    "print(mixed_list)\n",
    "\n",
    "list_of_lists = [list_of_nums, list_of_strings, mixed_list]\n",
    "print(list_of_lists)"
   ]
  },
  {
   "cell_type": "code",
   "execution_count": null,
   "metadata": {},
   "outputs": [
    {
     "name": "stdout",
     "output_type": "stream",
     "text": [
      "1\n",
      "5\n",
      "[1, 3, 5]\n",
      "5\n"
     ]
    }
   ],
   "source": [
    "## List indexing & slicing - works similar to string indexing & slicing\n",
    "list_of_nums = [1, 2, 3, 4, 5]\n",
    "\n",
    "## Let's extract only the first element in the list\n",
    "print(list_of_nums[0])\n",
    "\n",
    "## Let's extract only the last element in the list\n",
    "print(list_of_nums[-1])\n",
    "\n",
    "## Let's return each second element -> those at index 0, 2, 4...\n",
    "print(list_of_nums[::2])\n",
    "\n",
    "## We can also apply the \"len()\" function here -> What does it do?\n",
    "print(len(list_of_nums))"
   ]
  },
  {
   "cell_type": "code",
   "execution_count": null,
   "metadata": {},
   "outputs": [
    {
     "name": "stdout",
     "output_type": "stream",
     "text": [
      "[[1, 2, 3, 4, 5], ['Hello', 'Everyone', 'I', '<3', 'lists'], [1, 'a', 2, 'b', 3, 4, 5, 'c']]\n",
      "['Hello', 'Everyone', 'I', '<3', 'lists']\n",
      "<3\n"
     ]
    }
   ],
   "source": [
    "## What to do with the list of list?\n",
    "\n",
    "list_of_lists = [list_of_nums, list_of_strings, mixed_list]\n",
    "print(list_of_lists)\n",
    "## How can we extract the heart (\"<3\") from the second sub-list?\n",
    "print(list_of_lists[1])\n",
    "print(list_of_lists[1][3])"
   ]
  },
  {
   "attachments": {},
   "cell_type": "markdown",
   "metadata": {},
   "source": [
    "### Basic list methods"
   ]
  },
  {
   "cell_type": "code",
   "execution_count": 5,
   "metadata": {},
   "outputs": [
    {
     "data": {
      "text/plain": [
       "3"
      ]
     },
     "execution_count": 5,
     "metadata": {},
     "output_type": "execute_result"
    }
   ],
   "source": [
    "list_of_strings = [\"Hello\", \"Everyone\", \"I\", \"<3\", \"lists\"]\n",
    "list_of_strings.index(\"<3\")"
   ]
  },
  {
   "cell_type": "code",
   "execution_count": 6,
   "metadata": {},
   "outputs": [
    {
     "data": {
      "text/plain": [
       "['Hello', 'Everyone', 'I', '<3', 'lists']"
      ]
     },
     "execution_count": 6,
     "metadata": {},
     "output_type": "execute_result"
    }
   ],
   "source": [
    "list_of_strings"
   ]
  },
  {
   "cell_type": "code",
   "execution_count": 7,
   "metadata": {},
   "outputs": [
    {
     "data": {
      "text/plain": [
       "['Hello', 'Everyone', 'I', '<3', 'lists', 'Can I join?']"
      ]
     },
     "execution_count": 7,
     "metadata": {},
     "output_type": "execute_result"
    }
   ],
   "source": [
    "list_of_strings.append(\"Can I join?\") ## in place!\n",
    "list_of_strings"
   ]
  },
  {
   "cell_type": "code",
   "execution_count": 9,
   "metadata": {},
   "outputs": [
    {
     "data": {
      "text/plain": [
       "['Hello', 'Everyone', 'I', '<3', 'lists']"
      ]
     },
     "execution_count": 9,
     "metadata": {},
     "output_type": "execute_result"
    }
   ],
   "source": [
    "## No, you can't!\n",
    "\n",
    "list_of_strings.pop()\n",
    "list_of_strings"
   ]
  },
  {
   "cell_type": "code",
   "execution_count": 10,
   "metadata": {},
   "outputs": [
    {
     "data": {
      "text/plain": [
       "['Hello', 'I', '<3', 'lists']"
      ]
     },
     "execution_count": 10,
     "metadata": {},
     "output_type": "execute_result"
    }
   ],
   "source": [
    "list_of_strings.remove(\"Everyone\")\n",
    "list_of_strings"
   ]
  },
  {
   "attachments": {},
   "cell_type": "markdown",
   "metadata": {},
   "source": [
    "> <p style=\"font-size:20px\">🏠 Which other list methods are there? Find a few useful examples, and explain them in a comment!</p>"
   ]
  },
  {
   "cell_type": "markdown",
   "metadata": {},
   "source": [
    "## 9. Homework <a class=\"anchor\" id=\"chapter9\"></a>"
   ]
  },
  {
   "attachments": {},
   "cell_type": "markdown",
   "metadata": {},
   "source": [
    "![*Olive Trees*](images\\session_001\\van_gogh_10_banner.jpg)"
   ]
  },
  {
   "attachments": {},
   "cell_type": "markdown",
   "metadata": {},
   "source": [
    "- Download & install Python\n",
    "- Set up an IDE of choice\n",
    "- String methods\n",
    "- List methods\n",
    "- Sets\n",
    "- Find something interesting about Python and share it with others"
   ]
  },
  {
   "cell_type": "markdown",
   "metadata": {},
   "source": [
    "## 10. Additional Readings <a class=\"anchor\" id=\"chapter10\"></a>"
   ]
  },
  {
   "attachments": {},
   "cell_type": "markdown",
   "metadata": {},
   "source": [
    "![*Café Terrace at Night*](images\\session_001\\van_gogh_11_banner.jpg)"
   ]
  },
  {
   "attachments": {},
   "cell_type": "markdown",
   "metadata": {},
   "source": [
    "- Style Best Practices\n",
    "- Reading documentation and asking question is one of the best skills one can develop! No one can know everything."
   ]
  },
  {
   "attachments": {},
   "cell_type": "markdown",
   "metadata": {},
   "source": [
    "---"
   ]
  }
 ],
 "metadata": {
  "kernelspec": {
   "display_name": "base",
   "language": "python",
   "name": "python3"
  },
  "language_info": {
   "codemirror_mode": {
    "name": "ipython",
    "version": 3
   },
   "file_extension": ".py",
   "mimetype": "text/x-python",
   "name": "python",
   "nbconvert_exporter": "python",
   "pygments_lexer": "ipython3",
   "version": "3.7.6"
  },
  "orig_nbformat": 4,
  "vscode": {
   "interpreter": {
    "hash": "1cca9558bc5ad879ec93cc030b157d75f18267527c60932cecaace349eef54dd"
   }
  }
 },
 "nbformat": 4,
 "nbformat_minor": 2
}
