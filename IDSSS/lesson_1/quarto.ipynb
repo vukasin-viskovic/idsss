{
 "cells": [
  {
   "cell_type": "raw",
   "metadata": {},
   "source": [
    "---\n",
    "title: \"Lesson 1 - Intro to Python\"\n",
    "subtitle: \"Intro to Data Science for Social Scientists\"\n",
    "format:\n",
    "  html:\n",
    "    toc: true\n",
    "    html-math-method: katex\n",
    "    css: styles.css\n",
    "    theme:\n",
    "      light: flatly\n",
    "      dark: darkly\n",
    "---"
   ]
  },
  {
   "attachments": {},
   "cell_type": "markdown",
   "metadata": {},
   "source": [
    "![van_gogh_1_banner](images\\van_gogh_1_banner.jpg)\n",
    "*Vincent Van Gogh*"
   ]
  },
  {
   "attachments": {},
   "cell_type": "markdown",
   "metadata": {},
   "source": [
    "Today, we'll cover the following material:\n",
    "\n",
    "1. Python's history, relevance and usefulness\n",
    "2. Arithmetic Operators + Comments + Basic Functions\n",
    "3. Variables\n",
    "4. Elementary Data Types (`int`, `float`, `str`)\n",
    "5. String indexing & slicing + Basic string operations\n",
    "6. Comparison operators + Boolean datatype\n",
    "7. Logical Operators\n",
    "8. Lists\n",
    "9. Homework\n",
    "10. Additional Readings"
   ]
  },
  {
   "cell_type": "markdown",
   "metadata": {},
   "source": [
    "## 1. Python's history, relevance and usefulness <a class=\"anchor\" id=\"chapter1\"></a>"
   ]
  },
  {
   "cell_type": "markdown",
   "metadata": {},
   "source": [
    "![van_gogh_4_banner](images\\van_gogh_4_banner.jpg)"
   ]
  },
  {
   "cell_type": "markdown",
   "metadata": {},
   "source": [
    "> Python is a widely-used general-purpose, high-level programming language. It was initially designed by Guido van Rossum in 1991 and developed by Python Software Foundation. It was mainly developed for emphasis on code readability, and its syntax allows programmers to express concepts in fewer lines of code.\n",
    "\n",
    "> What started as a hobby project, soon became a general purpose programming language: nowadays, you can use Python to build practically any piece of software. \n",
    ">\n",
    "> **But how did this happen?**\n",
    "> \n",
    "> Well, first of all, Python is open source. It's free to use.\n",
    ">\n",
    "> Second, it's very easy to build packages in Python, which is code that you can share with other people to solve specific problems. Throughout time, more and more of these packages specifically built for data science have been developed. Suppose you want to make some fancy visualizations of your company's sales. There's a package for that. Or what about connecting to a database to analyze sensor measurements? There's also a package for that. People often refer to Python as the swiss army knife of programming languages as you can do almost anything with it."
   ]
  },
  {
   "cell_type": "markdown",
   "metadata": {},
   "source": [
    "## 2. Arithmetic Operators + Comments + Basic Functions <a class=\"anchor\" id=\"chapter2\"></a>"
   ]
  },
  {
   "cell_type": "markdown",
   "metadata": {},
   "source": [
    "![van_gogh_2_banner](images\\van_gogh_2_banner.jpg)"
   ]
  },
  {
   "cell_type": "code",
   "execution_count": null,
   "metadata": {},
   "outputs": [
    {
     "data": {
      "text/plain": [
       "3"
      ]
     },
     "metadata": {},
     "output_type": "display_data"
    }
   ],
   "source": [
    "## Multiplication\n",
    "1 + 2"
   ]
  },
  {
   "cell_type": "markdown",
   "metadata": {},
   "source": [
    "In Python, we use the hash sign (`#`) to write comments.\n",
    "\n",
    "Everything written after a hash sign isn’t evaluated - it’s ignored.\n",
    "\n",
    "I tend to use two hash signs for my comments, and one for ignoring problematic bits of code before I delete them.\n",
    "\n",
    "This method only works for one-line comments, though.\n",
    "\n",
    "We can also write multi-line comments, but we’ll talk about it more in the later sessions of the course.\n",
    "\n",
    "\n",
    "> <p style=\"font-size:20px\">🏠 Can you find out how to write multi-line comments in Python?<br>Write a reproducible example in the forum.</p>"
   ]
  },
  {
   "cell_type": "markdown",
   "metadata": {},
   "source": [
    "## 3. Variables <a class=\"anchor\" id=\"chapter3\"></a>"
   ]
  },
  {
   "cell_type": "markdown",
   "metadata": {},
   "source": [
    "![van_gogh_3_banner](images\\van_gogh_3_banner.jpg)"
   ]
  },
  {
   "cell_type": "code",
   "execution_count": null,
   "metadata": {},
   "outputs": [],
   "source": [
    "distance = 180 ## Our first variable. Hooray!\n",
    "\n",
    "time = 1.5 ## Our second variable. Yuppie!"
   ]
  },
  {
   "cell_type": "code",
   "execution_count": null,
   "metadata": {},
   "outputs": [
    {
     "data": {
      "text/plain": [
       "180"
      ]
     },
     "metadata": {},
     "output_type": "display_data"
    }
   ],
   "source": [
    "distance ## Python keeps our variables in memory! We're safe :)"
   ]
  },
  {
   "cell_type": "code",
   "execution_count": null,
   "metadata": {},
   "outputs": [
    {
     "data": {
      "text/plain": [
       "120.0"
      ]
     },
     "metadata": {},
     "output_type": "display_data"
    }
   ],
   "source": [
    "180 / 1.5"
   ]
  },
  {
   "cell_type": "code",
   "execution_count": null,
   "metadata": {},
   "outputs": [
    {
     "data": {
      "text/plain": [
       "120.0"
      ]
     },
     "metadata": {},
     "output_type": "display_data"
    }
   ],
   "source": [
    "distance / time"
   ]
  },
  {
   "cell_type": "code",
   "execution_count": null,
   "metadata": {},
   "outputs": [
    {
     "data": {
      "text/plain": [
       "120.0"
      ]
     },
     "metadata": {},
     "output_type": "display_data"
    }
   ],
   "source": [
    "#distance = 180 \n",
    "#time = 1.5 \n",
    "speed = distance / time ## saving the result in a new variable\n",
    "speed"
   ]
  },
  {
   "cell_type": "code",
   "execution_count": null,
   "metadata": {},
   "outputs": [
    {
     "data": {
      "text/plain": [
       "72.0"
      ]
     },
     "metadata": {},
     "output_type": "display_data"
    }
   ],
   "source": [
    "#distance = 180 ## this variable stays unchanged\n",
    "time = 2.5 ## this one we do change\n",
    "speed = distance / time \n",
    "speed ## this one changes accordingly!"
   ]
  },
  {
   "cell_type": "markdown",
   "metadata": {},
   "source": [
    "[*Return to the top of the page*](#top)"
   ]
  },
  {
   "cell_type": "markdown",
   "metadata": {},
   "source": [
    "## 4. Elementary Data Types (`int`, `float`, `str`) <a class=\"anchor\" id=\"chapter4\"></a>"
   ]
  },
  {
   "cell_type": "markdown",
   "metadata": {},
   "source": [
    "![van_gogh_5.1_banner](images\\van_gogh_5.1_banner.jpg)"
   ]
  },
  {
   "cell_type": "code",
   "execution_count": null,
   "metadata": {},
   "outputs": [
    {
     "data": {
      "text/plain": [
       "int"
      ]
     },
     "metadata": {},
     "output_type": "display_data"
    }
   ],
   "source": [
    "## Integers\n",
    "type(distance) ## Introducing the \"type()\" function"
   ]
  },
  {
   "cell_type": "code",
   "execution_count": null,
   "metadata": {},
   "outputs": [
    {
     "data": {
      "text/plain": [
       "180"
      ]
     },
     "metadata": {},
     "output_type": "display_data"
    }
   ],
   "source": [
    "distance"
   ]
  },
  {
   "cell_type": "code",
   "execution_count": null,
   "metadata": {},
   "outputs": [
    {
     "data": {
      "text/plain": [
       "float"
      ]
     },
     "metadata": {},
     "output_type": "display_data"
    }
   ],
   "source": [
    "## Floats\n",
    "type(speed)"
   ]
  },
  {
   "cell_type": "code",
   "execution_count": null,
   "metadata": {},
   "outputs": [
    {
     "data": {
      "text/plain": [
       "72.0"
      ]
     },
     "metadata": {},
     "output_type": "display_data"
    }
   ],
   "source": [
    "speed"
   ]
  },
  {
   "cell_type": "markdown",
   "metadata": {},
   "source": [
    "So far, we’ve only worked with numeric data types (integers and floats).\n",
    "\n",
    "There are, however, many other types of data we can (and will often) use.\n",
    "\n",
    "> <p style=\"font-size:20px\">❔ Can you think of other ways how information can be stored?</p>"
   ]
  },
  {
   "cell_type": "code",
   "execution_count": null,
   "metadata": {},
   "outputs": [
    {
     "data": {
      "text/plain": [
       "'Hello World'"
      ]
     },
     "metadata": {},
     "output_type": "display_data"
    }
   ],
   "source": [
    "\"Hello World\" ## Introducing strings!"
   ]
  },
  {
   "cell_type": "code",
   "execution_count": null,
   "metadata": {},
   "outputs": [
    {
     "name": "stdout",
     "output_type": "stream",
     "text": [
      "Hello World\n",
      "How's everyone doing?\n",
      "It is okay, thanks for checking\n"
     ]
    }
   ],
   "source": [
    "print(\"Hello World\")\n",
    "print(\"How's everyone doing?\") ## Using \"\" + '\n",
    "print('It is okay, thanks for checking') ## Using '' instead of \"\""
   ]
  },
  {
   "cell_type": "code",
   "execution_count": null,
   "metadata": {},
   "outputs": [
    {
     "ename": "SyntaxError",
     "evalue": "invalid syntax (<ipython-input-25-9d7f84d1f160>, line 1)",
     "output_type": "error",
     "traceback": [
      "\u001b[1;36m  File \u001b[1;32m\"<ipython-input-25-9d7f84d1f160>\"\u001b[1;36m, line \u001b[1;32m1\u001b[0m\n",
      "\u001b[1;33m    print('it's about to get strange') ## Yes it is -> this gives us an error. Why?\u001b[0m\n",
      "\u001b[1;37m              ^\u001b[0m\n",
      "\u001b[1;31mSyntaxError\u001b[0m\u001b[1;31m:\u001b[0m invalid syntax\n"
     ]
    }
   ],
   "source": [
    "print('it's about to get strange') ## Yes it is -> this gives us an error. Why?"
   ]
  },
  {
   "cell_type": "code",
   "execution_count": null,
   "metadata": {},
   "outputs": [
    {
     "name": "stdout",
     "output_type": "stream",
     "text": [
      "Hello! How's it going?\n",
      "<class 'str'>\n"
     ]
    }
   ],
   "source": [
    "## Now, let's define a variable that contains string data\n",
    "my_string = \"Hello! How's it going?\"\n",
    "print(my_string)\n",
    "print(type(my_string)) ## Nesting functions. Be sure the brackets are all paired up"
   ]
  }
 ],
 "metadata": {
  "kernelspec": {
   "display_name": "base",
   "language": "python",
   "name": "python3"
  },
  "language_info": {
   "codemirror_mode": {
    "name": "ipython",
    "version": 3
   },
   "file_extension": ".py",
   "mimetype": "text/x-python",
   "name": "python",
   "nbconvert_exporter": "python",
   "pygments_lexer": "ipython3",
   "version": "3.7.6"
  },
  "orig_nbformat": 4,
  "vscode": {
   "interpreter": {
    "hash": "1cca9558bc5ad879ec93cc030b157d75f18267527c60932cecaace349eef54dd"
   }
  }
 },
 "nbformat": 4,
 "nbformat_minor": 2
}
