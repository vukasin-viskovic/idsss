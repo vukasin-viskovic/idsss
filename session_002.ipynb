{
 "cells": [
  {
   "cell_type": "raw",
   "metadata": {},
   "source": [
    "---\n",
    "title: \"Lesson 2 - More Data Types & Control Flow\"\n",
    "subtitle: \"Intro to Data Science for Social Scientists\"\n",
    "format:\n",
    "  html:\n",
    "    toc: true\n",
    "    html-math-method: katex\n",
    "    css: styles.css\n",
    "comments:                         \n",
    "  utterances:\n",
    "    repo: quarto-dev/quarto-web\n",
    "---"
   ]
  },
  {
   "attachments": {},
   "cell_type": "markdown",
   "metadata": {},
   "source": [
    "![*Castle and Sun*](images\\session_002\\klee_1_banner.jpg)"
   ]
  },
  {
   "attachments": {},
   "cell_type": "markdown",
   "metadata": {},
   "source": [
    "Today, we'll cover the following:\n",
    "\n",
    "But first, let's briefly review last week's topics."
   ]
  },
  {
   "attachments": {},
   "cell_type": "markdown",
   "metadata": {},
   "source": [
    "## 1. Recap of the previous session"
   ]
  },
  {
   "attachments": {},
   "cell_type": "markdown",
   "metadata": {},
   "source": [
    "![*Insula dulcamara*](images\\session_002\\klee_2.1_banner.jpeg)"
   ]
  },
  {
   "cell_type": "markdown",
   "metadata": {},
   "source": [
    "- Why Python?\n",
    "- Data types (int, float, str, list)\n",
    "- Basic String operations, indexing, slicing\n",
    "- Basic List operations, indexing, slicing"
   ]
  },
  {
   "attachments": {},
   "cell_type": "markdown",
   "metadata": {},
   "source": [
    "## 2. New Data Types: NumPy arrays + Intro to NumPy"
   ]
  },
  {
   "attachments": {},
   "cell_type": "markdown",
   "metadata": {},
   "source": [
    "![*Fish Magic*](images\\session_002\\klee_3.2_banner.jpg)"
   ]
  },
  {
   "cell_type": "code",
   "execution_count": null,
   "metadata": {},
   "outputs": [
    {
     "data": {
      "text/plain": [
       "[3500, 0, 0, 1200, 1000, 0, 0, 500]"
      ]
     },
     "metadata": {},
     "output_type": "display_data"
    }
   ],
   "source": [
    "## Let's say we have two lists that hold information on how much money we spent...\n",
    "## on groceries and entertainment during each day of the month - in RS Dinars\n",
    "\n",
    "expenses_groceries = [3500, 0, 0, 1200]\n",
    "expenses_entertainment = [1000, 0, 0, 500]\n",
    "\n",
    "## It would be really nice to get an overview of how much money in total we spent...\n",
    "## ... per day.\n",
    "\n",
    "## Simple, right?\n",
    "\n",
    "expenses_groceries + expenses_entertainment "
   ]
  },
  {
   "cell_type": "markdown",
   "metadata": {},
   "source": [
    "Nope, that doesn’t work. At least, not the way we wanted.\n",
    "\n",
    "Remember string concatenation?\n",
    "\n",
    "Remember how different functions and operators work differently for different data types?\n",
    "\n",
    "“+” operator, when used with lists, results in list concatenation.\n",
    "\n",
    "If we want a pairwise summation of elements in two lists, we need the help of a package called NumPy.\n",
    "\n",
    "But first, what are packages?\n",
    "\n",
    "- Packages are collections of objects, such as data types and functions that aren’t available in base Python, but can quickly be imported to enhance its abilities. We use them all the time. They make life much, much easier!\n",
    "- Why don’t they exist in base Python?\n",
    "\n",
    " What is NumPy and why it’s important?"
   ]
  },
  {
   "cell_type": "code",
   "execution_count": null,
   "metadata": {},
   "outputs": [
    {
     "data": {
      "text/plain": [
       "array([1, 2, 3, 4])"
      ]
     },
     "metadata": {},
     "output_type": "display_data"
    }
   ],
   "source": [
    "import numpy as np ## This is how we import a package. \n",
    "## \"np\" is numpy's commonly used alias\n",
    "\n",
    "my_list = [1, 2, 3, 4]\n",
    "np.array(my_list)"
   ]
  },
  {
   "cell_type": "code",
   "execution_count": null,
   "metadata": {},
   "outputs": [
    {
     "data": {
      "text/plain": [
       "numpy.ndarray"
      ]
     },
     "metadata": {},
     "output_type": "display_data"
    }
   ],
   "source": [
    "my_array = np.array(my_list)\n",
    "type(my_array)"
   ]
  },
  {
   "cell_type": "code",
   "execution_count": null,
   "metadata": {},
   "outputs": [
    {
     "data": {
      "text/plain": [
       "array([4500,    0,    0, 1700])"
      ]
     },
     "metadata": {},
     "output_type": "display_data"
    }
   ],
   "source": [
    "list_groceries = [3500, 0, 0, 1200]\n",
    "list_entertainment = [1000, 0, 0, 500]\n",
    "\n",
    "array_grocesies = np.array(expenses_groceries)\n",
    "array_enterntainment = np.array(expenses_entertainment)\n",
    "\n",
    "arr_sum = array_grocesies + array_enterntainment\n",
    "arr_sum ## It works like a charm this time!"
   ]
  },
  {
   "cell_type": "code",
   "execution_count": null,
   "metadata": {},
   "outputs": [
    {
     "name": "stdout",
     "output_type": "stream",
     "text": [
      "[2500    0    0  700]\n",
      "[3500000       0       0  600000]\n"
     ]
    }
   ],
   "source": [
    "## list_groceries = [3500, 0, 0, 1200] ## Just to remember\n",
    "## list_entertainment = [1000, 0, 0, 500] ## Just to remember\n",
    "\n",
    "## Okay, now we know how pairwise summation works.\n",
    "## What about substraction?\n",
    "\n",
    "print(array_grocesies - array_enterntainment)\n",
    "\n",
    "## Multiplication?\n",
    "print(array_grocesies * array_enterntainment)"
   ]
  },
  {
   "cell_type": "code",
   "execution_count": null,
   "metadata": {},
   "outputs": [
    {
     "name": "stdout",
     "output_type": "stream",
     "text": [
      "[3.5 nan nan 2.4]\n"
     ]
    },
    {
     "name": "stderr",
     "output_type": "stream",
     "text": [
      "c:\\Users\\PC\\anaconda3\\lib\\site-packages\\ipykernel_launcher.py:2: RuntimeWarning: invalid value encountered in true_divide\n",
      "  \n"
     ]
    }
   ],
   "source": [
    "## Division?\n",
    "print(array_grocesies / array_enterntainment)"
   ]
  },
  {
   "cell_type": "markdown",
   "metadata": {},
   "source": [
    "Python lists VS NumPy arrays - similarities and differences"
   ]
  },
  {
   "cell_type": "markdown",
   "metadata": {},
   "source": [
    "🏠 Algebra: vector and a scalar\n",
    "\n",
    "🏠 Algebra: vectors of unequal lengths\n",
    "\n",
    "🏠 Indexing and slicing arrays\n",
    "\n",
    "🏠 Arrays with more than 1 dimension"
   ]
  },
  {
   "attachments": {},
   "cell_type": "markdown",
   "metadata": {},
   "source": [
    "## 3. New Data Types: Dictionary"
   ]
  },
  {
   "attachments": {},
   "cell_type": "markdown",
   "metadata": {},
   "source": [
    "![*Senecio*](images\\session_002\\klee_4.1_banner.jpg)"
   ]
  },
  {
   "cell_type": "code",
   "execution_count": null,
   "metadata": {},
   "outputs": [
    {
     "data": {
      "text/plain": [
       "'Accountant'"
      ]
     },
     "metadata": {},
     "output_type": "display_data"
    }
   ],
   "source": [
    "## In real life, we often deal with more complex data structures\n",
    "## How can we express them in Python?\n",
    "## 1) With lists?\n",
    "\n",
    "list_first_names = [\"Ana\", \"Petar\", \"Marko\", \"Jovana\"]\n",
    "list_professions = [\"Accountant\", \"Programmer\", \"Manager\", \"Junior Developer\"]\n",
    "\n",
    "## Doesn't look so good - not very easy to work with\n",
    "\n",
    "list_professions[list_first_names.index(\"Ana\")]"
   ]
  },
  {
   "cell_type": "code",
   "execution_count": null,
   "metadata": {},
   "outputs": [
    {
     "name": "stdout",
     "output_type": "stream",
     "text": [
      "Accountant\n"
     ]
    }
   ],
   "source": [
    "## 2) With lists of lists?\n",
    "\n",
    "list_employees = [[\"Ana\", \"Accountant\"], \n",
    "                  [\"Petar\", \"Programmer\"], \n",
    "                  [\"Marko\", \"Manager\"],\n",
    "                  [\"Jovana\", \"Junior Developer\"]]\n",
    "\n",
    "## Still not so good...\n",
    "\n",
    "for sublist in list_employees:\n",
    "    if \"Ana\" in sublist:\n",
    "        print(sublist[sublist.index(\"Ana\") + 1])"
   ]
  },
  {
   "cell_type": "code",
   "execution_count": null,
   "metadata": {},
   "outputs": [
    {
     "data": {
      "text/plain": [
       "'Acountant'"
      ]
     },
     "metadata": {},
     "output_type": "display_data"
    }
   ],
   "source": [
    "## 3) Say hello to dictionaries!\n",
    "\n",
    "dict_employees = {\"Ana\" : \"Acountant\",\n",
    "                  \"Petar\" : \"Programmer\",\n",
    "                  \"Marko\" : \"Manager\",\n",
    "                  \"Jovana\" : \"Junior Developer\"}\n",
    "\n",
    "dict_employees[\"Ana\"]"
   ]
  },
  {
   "cell_type": "code",
   "execution_count": null,
   "metadata": {},
   "outputs": [
    {
     "data": {
      "text/plain": [
       "dict"
      ]
     },
     "metadata": {},
     "output_type": "display_data"
    }
   ],
   "source": [
    "type(dict_employees)"
   ]
  },
  {
   "cell_type": "markdown",
   "metadata": {},
   "source": [
    "Dictionaries are defined with `{key : value}` notation \n",
    "\n",
    "(unlike lists: `[element1, element2, …]`).\n",
    "\n",
    "They are a bit like named lists.\n",
    "\n",
    "Each key in a dictionary corresponds to exactly one value.\n",
    "\n",
    "Dictionaries can contain different data types."
   ]
  },
  {
   "cell_type": "code",
   "execution_count": null,
   "metadata": {},
   "outputs": [
    {
     "data": {
      "text/plain": [
       "{'course name': 'Intro to Python for Social Scientists',\n",
       " 'starting_date': '2023.04.02',\n",
       " 'num_participants': 20,\n",
       " 'participant_names': ['Marko', 'Ana', 'Petar', 'Jovana']}"
      ]
     },
     "metadata": {},
     "output_type": "display_data"
    }
   ],
   "source": [
    "## Dictionary with different datatypes 1 -> strings, integers, lists, ...\n",
    "\n",
    "my_dict = {\"course name\" : \"Intro to Python for Social Scientists\",\n",
    "           \"starting_date\" : \"2023.04.02\",\n",
    "           \"num_participants\" : 20,\n",
    "           \"participant_names\" : [\"Marko\", \"Ana\", \"Petar\", \"Jovana\"]}\n",
    "\n",
    "my_dict"
   ]
  },
  {
   "cell_type": "code",
   "execution_count": null,
   "metadata": {},
   "outputs": [
    {
     "name": "stdout",
     "output_type": "stream",
     "text": [
      "{'course name': 'Intro to Python for Social Scientists',\n",
      " 'num_participants': 20,\n",
      " 'participant_names': {'Ana': 'Acountant',\n",
      "                       'Jovana': 'Junior Developer',\n",
      "                       'Marko': 'Manager',\n",
      "                       'Petar': 'Programmer'},\n",
      " 'starting_date': '2023.04.02'}\n"
     ]
    }
   ],
   "source": [
    "## Dictionary with different datatypes 2 -> strings, integers, dictionaries, ...\n",
    "\n",
    "dict_students = {\"Ana\" : \"Acountant\",\n",
    "                 \"Petar\" : \"Programmer\",\n",
    "                 \"Marko\" : \"Manager\",\n",
    "                 \"Jovana\" : \"Junior Developer\"}\n",
    "\n",
    "my_dict = {\"course name\" : \"Intro to Python for Social Scientists\",\n",
    "           \"starting_date\" : \"2023.04.02\",\n",
    "           \"num_participants\" : 20,\n",
    "           \"participant_names\" : dict_students}\n",
    "\n",
    "import pprint as pp\n",
    "pp.pprint(my_dict)"
   ]
  },
  {
   "cell_type": "markdown",
   "metadata": {},
   "source": [
    "### Keys 🔑🗝️ and items 🚪"
   ]
  },
  {
   "cell_type": "code",
   "execution_count": null,
   "metadata": {},
   "outputs": [
    {
     "data": {
      "text/plain": [
       "dict_keys(['course name', 'starting_date', 'num_participants', 'participant_names'])"
      ]
     },
     "metadata": {},
     "output_type": "display_data"
    }
   ],
   "source": [
    "my_dict.keys()"
   ]
  },
  {
   "cell_type": "code",
   "execution_count": null,
   "metadata": {},
   "outputs": [
    {
     "data": {
      "text/plain": [
       "'Intro to Python for Social Scientists'"
      ]
     },
     "metadata": {},
     "output_type": "display_data"
    }
   ],
   "source": [
    "## Keys open the door to items 🚪\n",
    "my_dict[\"course name\"]"
   ]
  },
  {
   "cell_type": "code",
   "execution_count": null,
   "metadata": {},
   "outputs": [
    {
     "data": {
      "text/plain": [
       "dict_items([('course name', 'Intro to Python for Social Scientists'), ('starting_date', '2023.04.02'), ('num_participants', 20), ('participant_names', {'Ana': 'Acountant', 'Petar': 'Programmer', 'Marko': 'Manager', 'Jovana': 'Junior Developer'})])"
      ]
     },
     "metadata": {},
     "output_type": "display_data"
    }
   ],
   "source": [
    "my_dict.items()"
   ]
  },
  {
   "cell_type": "markdown",
   "metadata": {},
   "source": [
    "### Iterating over a dictionary"
   ]
  },
  {
   "cell_type": "code",
   "execution_count": null,
   "metadata": {},
   "outputs": [
    {
     "name": "stdout",
     "output_type": "stream",
     "text": [
      "My key is currently: course name. Let's see what items it opens:\n",
      "---> Intro to Python for Social Scientists\n",
      "My key is currently: starting_date. Let's see what items it opens:\n",
      "---> 2023.04.02\n",
      "My key is currently: num_participants. Let's see what items it opens:\n",
      "---> 20\n",
      "My key is currently: participant_names. Let's see what items it opens:\n",
      "---> {'Ana': 'Acountant', 'Petar': 'Programmer', 'Marko': 'Manager', 'Jovana': 'Junior Developer'}\n"
     ]
    }
   ],
   "source": [
    "## Iterating over keys:\n",
    "\n",
    "for key in my_dict.keys():\n",
    "    print(f\"My key is currently: {key}. Let's see what items it opens:\")\n",
    "    print(f\"---> {my_dict[key]}\")\n"
   ]
  },
  {
   "cell_type": "code",
   "execution_count": null,
   "metadata": {},
   "outputs": [
    {
     "name": "stdout",
     "output_type": "stream",
     "text": [
      "course name ---> Intro to Python for Social Scientists\n",
      "starting_date ---> 2023.04.02\n",
      "num_participants ---> 20\n",
      "participant_names ---> {'Ana': 'Acountant', 'Petar': 'Programmer', 'Marko': 'Manager', 'Jovana': 'Junior Developer'}\n"
     ]
    }
   ],
   "source": [
    "## Iterating over keys and items:\n",
    "\n",
    "for key, item in my_dict.items():\n",
    "    print(key, \"--->\", item)"
   ]
  },
  {
   "cell_type": "code",
   "execution_count": null,
   "metadata": {},
   "outputs": [
    {
     "name": "stdout",
     "output_type": "stream",
     "text": [
      "{'Bobby': 'dog', 'Marley': 'dog', 'Lessie': 'dog'}\n"
     ]
    }
   ],
   "source": [
    "pets_list = [\"Bobby\", \"Marley\", \"Lessie\"]\n",
    "\n",
    "pets_dict = {}\n",
    "for pet in pets_list:\n",
    "    pets_dict[pet] = \"dog\"\n",
    "    \n",
    "print(pets_dict)"
   ]
  },
  {
   "cell_type": "markdown",
   "metadata": {},
   "source": [
    "- Dictionary operations\n",
    "- Dictionary VS other data types\n",
    "- Why is a dictionary useful? It’s the basis of Pandas `DataFrames`!"
   ]
  },
  {
   "attachments": {},
   "cell_type": "markdown",
   "metadata": {},
   "source": [
    "## 4. Introducing Pandas (very briefly)"
   ]
  },
  {
   "attachments": {},
   "cell_type": "markdown",
   "metadata": {},
   "source": [
    "![*Bird Comedy*](images\\session_002\\klee_5_banner.jfif)"
   ]
  },
  {
   "cell_type": "markdown",
   "metadata": {},
   "source": [
    "We'll learn much more about Pandas in the following sessions.\n",
    "\n",
    "It will become one of the main tools in our arsenal.\n",
    "\n",
    "In this brief introduction to this library, we'll just build upon what we've learned about `dict` objects."
   ]
  },
  {
   "cell_type": "code",
   "execution_count": null,
   "metadata": {},
   "outputs": [
    {
     "data": {
      "text/html": [
       "<div>\n",
       "<style scoped>\n",
       "    .dataframe tbody tr th:only-of-type {\n",
       "        vertical-align: middle;\n",
       "    }\n",
       "\n",
       "    .dataframe tbody tr th {\n",
       "        vertical-align: top;\n",
       "    }\n",
       "\n",
       "    .dataframe thead th {\n",
       "        text-align: right;\n",
       "    }\n",
       "</style>\n",
       "<table border=\"1\" class=\"dataframe\">\n",
       "  <thead>\n",
       "    <tr style=\"text-align: right;\">\n",
       "      <th></th>\n",
       "      <th>country</th>\n",
       "      <th>capital</th>\n",
       "      <th>population</th>\n",
       "    </tr>\n",
       "  </thead>\n",
       "  <tbody>\n",
       "    <tr>\n",
       "      <th>0</th>\n",
       "      <td>Serbia</td>\n",
       "      <td>Belgrade</td>\n",
       "      <td>8000000</td>\n",
       "    </tr>\n",
       "    <tr>\n",
       "      <th>1</th>\n",
       "      <td>Slovenia</td>\n",
       "      <td>Ljubljana</td>\n",
       "      <td>3000000</td>\n",
       "    </tr>\n",
       "    <tr>\n",
       "      <th>2</th>\n",
       "      <td>Slowakia</td>\n",
       "      <td>Bratislava</td>\n",
       "      <td>6000000</td>\n",
       "    </tr>\n",
       "  </tbody>\n",
       "</table>\n",
       "</div>"
      ],
      "text/plain": [
       "    country     capital  population\n",
       "0    Serbia    Belgrade     8000000\n",
       "1  Slovenia   Ljubljana     3000000\n",
       "2  Slowakia  Bratislava     6000000"
      ]
     },
     "metadata": {},
     "output_type": "display_data"
    }
   ],
   "source": [
    "import pandas as pd\n",
    "\n",
    "countries_dict = {\"country\" : [\"Serbia\", \"Slovenia\", \"Slowakia\"],\n",
    "                  \"capital\" : [\"Belgrade\", \"Ljubljana\", \"Bratislava\"],\n",
    "                  \"population\" : [8000000, 3000000, 6000000]}\n",
    "\n",
    "countries_df = pd.DataFrame(countries_dict)\n",
    "\n",
    "countries_df"
   ]
  },
  {
   "cell_type": "code",
   "execution_count": null,
   "metadata": {},
   "outputs": [
    {
     "data": {
      "text/plain": [
       "0      Serbia\n",
       "1    Slovenia\n",
       "2    Slowakia\n",
       "Name: country, dtype: object"
      ]
     },
     "metadata": {},
     "output_type": "display_data"
    }
   ],
   "source": [
    "countries_df[\"country\"]"
   ]
  },
  {
   "cell_type": "code",
   "execution_count": null,
   "metadata": {},
   "outputs": [
    {
     "data": {
      "text/plain": [
       "0      Belgrade\n",
       "1     Ljubljana\n",
       "2    Bratislava\n",
       "Name: capital, dtype: object"
      ]
     },
     "metadata": {},
     "output_type": "display_data"
    }
   ],
   "source": [
    "countries_df[\"capital\"]"
   ]
  },
  {
   "cell_type": "code",
   "execution_count": null,
   "metadata": {},
   "outputs": [
    {
     "data": {
      "text/plain": [
       "0      Serbia\n",
       "1    Slovenia\n",
       "Name: country, dtype: object"
      ]
     },
     "metadata": {},
     "output_type": "display_data"
    }
   ],
   "source": [
    "countries_df[\"country\"][:2]"
   ]
  },
  {
   "cell_type": "markdown",
   "metadata": {},
   "source": [
    "That's enough about Pandas for today. \n",
    "\n",
    "We will develop this knowledge much further (and deeper) in the next sessions."
   ]
  },
  {
   "attachments": {},
   "cell_type": "markdown",
   "metadata": {},
   "source": [
    "## 5. `for` loops"
   ]
  },
  {
   "attachments": {},
   "cell_type": "markdown",
   "metadata": {},
   "source": [
    "![*Lonely Flower*](images\\session_002\\klee_6_banner.jpg)"
   ]
  },
  {
   "cell_type": "code",
   "execution_count": null,
   "metadata": {},
   "outputs": [
    {
     "name": "stdout",
     "output_type": "stream",
     "text": [
      "I love my mum\n",
      "I love my dad\n",
      "I love my sister\n",
      "I love my brother\n"
     ]
    }
   ],
   "source": [
    "my_family = [\"mum\", \"dad\", \"sister\", \"brother\"]\n",
    "\n",
    "for i in my_family: \n",
    "\tprint(\"I love my\", i)"
   ]
  },
  {
   "cell_type": "code",
   "execution_count": null,
   "metadata": {},
   "outputs": [
    {
     "name": "stdout",
     "output_type": "stream",
     "text": [
      "f\n",
      "a\n",
      "m\n",
      "i\n",
      "l\n",
      "y\n"
     ]
    }
   ],
   "source": [
    "for letter in \"family\":\n",
    "    print(letter)"
   ]
  },
  {
   "cell_type": "code",
   "execution_count": null,
   "metadata": {},
   "outputs": [
    {
     "name": "stdout",
     "output_type": "stream",
     "text": [
      "fff\n",
      "aaa\n",
      "mmm\n",
      "iii\n",
      "lll\n",
      "yyy\n"
     ]
    }
   ],
   "source": [
    "for letter in \"family\":\n",
    "    print(letter * 3)"
   ]
  },
  {
   "cell_type": "code",
   "execution_count": null,
   "metadata": {},
   "outputs": [
    {
     "name": "stdout",
     "output_type": "stream",
     "text": [
      "0\n",
      "1\n",
      "2\n",
      "3\n",
      "4\n",
      "5\n",
      "6\n",
      "7\n",
      "8\n",
      "9\n",
      "10\n"
     ]
    }
   ],
   "source": [
    "for i in range(10 + 1):\n",
    "    print(i)"
   ]
  },
  {
   "cell_type": "code",
   "execution_count": null,
   "metadata": {},
   "outputs": [
    {
     "data": {
      "text/plain": [
       "range(0, 10)"
      ]
     },
     "metadata": {},
     "output_type": "display_data"
    }
   ],
   "source": [
    "## Let's have a closer look at the range() function\n",
    "\n",
    "range(10)"
   ]
  },
  {
   "cell_type": "markdown",
   "metadata": {},
   "source": [
    "Why did \"nothing\" happen?"
   ]
  },
  {
   "cell_type": "code",
   "execution_count": null,
   "metadata": {},
   "outputs": [
    {
     "name": "stdout",
     "output_type": "stream",
     "text": [
      "Help on class range in module builtins:\n",
      "\n",
      "class range(object)\n",
      " |  range(stop) -> range object\n",
      " |  range(start, stop[, step]) -> range object\n",
      " |  \n",
      " |  Return an object that produces a sequence of integers from start (inclusive)\n",
      " |  to stop (exclusive) by step.  range(i, j) produces i, i+1, i+2, ..., j-1.\n",
      " |  start defaults to 0, and stop is omitted!  range(4) produces 0, 1, 2, 3.\n",
      " |  These are exactly the valid indices for a list of 4 elements.\n",
      " |  When step is given, it specifies the increment (or decrement).\n",
      " |  \n",
      " |  Methods defined here:\n",
      " |  \n",
      " |  __bool__(self, /)\n",
      " |      self != 0\n",
      " |  \n",
      " |  __contains__(self, key, /)\n",
      " |      Return key in self.\n",
      " |  \n",
      " |  __eq__(self, value, /)\n",
      " |      Return self==value.\n",
      " |  \n",
      " |  __ge__(self, value, /)\n",
      " |      Return self>=value.\n",
      " |  \n",
      " |  __getattribute__(self, name, /)\n",
      " |      Return getattr(self, name).\n",
      " |  \n",
      " |  __getitem__(self, key, /)\n",
      " |      Return self[key].\n",
      " |  \n",
      " |  __gt__(self, value, /)\n",
      " |      Return self>value.\n",
      " |  \n",
      " |  __hash__(self, /)\n",
      " |      Return hash(self).\n",
      " |  \n",
      " |  __iter__(self, /)\n",
      " |      Implement iter(self).\n",
      " |  \n",
      " |  __le__(self, value, /)\n",
      " |      Return self<=value.\n",
      " |  \n",
      " |  __len__(self, /)\n",
      " |      Return len(self).\n",
      " |  \n",
      " |  __lt__(self, value, /)\n",
      " |      Return self<value.\n",
      " |  \n",
      " |  __ne__(self, value, /)\n",
      " |      Return self!=value.\n",
      " |  \n",
      " |  __reduce__(...)\n",
      " |      Helper for pickle.\n",
      " |  \n",
      " |  __repr__(self, /)\n",
      " |      Return repr(self).\n",
      " |  \n",
      " |  __reversed__(...)\n",
      " |      Return a reverse iterator.\n",
      " |  \n",
      " |  count(...)\n",
      " |      rangeobject.count(value) -> integer -- return number of occurrences of value\n",
      " |  \n",
      " |  index(...)\n",
      " |      rangeobject.index(value) -> integer -- return index of value.\n",
      " |      Raise ValueError if the value is not present.\n",
      " |  \n",
      " |  ----------------------------------------------------------------------\n",
      " |  Static methods defined here:\n",
      " |  \n",
      " |  __new__(*args, **kwargs) from builtins.type\n",
      " |      Create and return a new object.  See help(type) for accurate signature.\n",
      " |  \n",
      " |  ----------------------------------------------------------------------\n",
      " |  Data descriptors defined here:\n",
      " |  \n",
      " |  start\n",
      " |  \n",
      " |  step\n",
      " |  \n",
      " |  stop\n",
      "\n"
     ]
    }
   ],
   "source": [
    "## Let's consult the expert on this one:\n",
    "  \n",
    "help(range)"
   ]
  },
  {
   "cell_type": "markdown",
   "metadata": {},
   "source": [
    "So, the `range()` function on its own outputs a `range` object.\n",
    "\n",
    "Let's doublecheck:"
   ]
  },
  {
   "cell_type": "code",
   "execution_count": null,
   "metadata": {},
   "outputs": [
    {
     "data": {
      "text/plain": [
       "range"
      ]
     },
     "metadata": {},
     "output_type": "display_data"
    }
   ],
   "source": [
    "type(range(10))"
   ]
  },
  {
   "cell_type": "markdown",
   "metadata": {},
   "source": [
    "Most of the time, we'll need to pair this with another function to achieve our goals.\n",
    "\n",
    "One such function is the `list()` function.\n",
    "\n",
    "Can you guess the output of `list(range(11))`?"
   ]
  },
  {
   "cell_type": "code",
   "execution_count": null,
   "metadata": {},
   "outputs": [
    {
     "data": {
      "text/plain": [
       "[0, 1, 2, 3, 4, 5, 6, 7, 8, 9, 10]"
      ]
     },
     "metadata": {},
     "output_type": "display_data"
    }
   ],
   "source": [
    "list(range(11))"
   ]
  },
  {
   "cell_type": "markdown",
   "metadata": {},
   "source": [
    "Let's learn a bit more about the `range()` function.\n",
    "\n",
    "We've seen that it has three parameters: `range(start, stop[, step])`.\n",
    "\n",
    "By defauls, `start = 0`, and `step = 1`."
   ]
  },
  {
   "cell_type": "code",
   "execution_count": null,
   "metadata": {},
   "outputs": [
    {
     "name": "stdout",
     "output_type": "stream",
     "text": [
      "[0, 1, 2, 3, 4, 5, 6, 7, 8, 9]\n",
      "[0, 1, 2, 3, 4, 5, 6, 7, 8, 9]\n",
      "[2, 4, 6, 8, 10, 12, 14, 16, 18, 20]\n"
     ]
    }
   ],
   "source": [
    "print(list(range(10)))\n",
    "print(list(range(0, 10, 1))) ## Same as the above\n",
    "print(list(range(2, 21, 2))) ## Now we're mixing it up a bit"
   ]
  },
  {
   "cell_type": "markdown",
   "metadata": {},
   "source": [
    "Another typical use of the `range()` function is in combination with a for loop.\n",
    "\n",
    "We instruct Python to perform a certain operation for every element generated within the `range` object.\n",
    "\n",
    "Let's see some examples:"
   ]
  },
  {
   "cell_type": "code",
   "execution_count": null,
   "metadata": {},
   "outputs": [
    {
     "name": "stdout",
     "output_type": "stream",
     "text": [
      "\tOdd one here 1\n",
      "We have an even number - it's 2\n",
      "\tOdd one here 3\n",
      "We have an even number - it's 4\n",
      "\tOdd one here 5\n",
      "We have an even number - it's 6\n",
      "\tOdd one here 7\n",
      "We have an even number - it's 8\n",
      "\tOdd one here 9\n",
      "We have an even number - it's 10\n"
     ]
    }
   ],
   "source": [
    "for i in range(1, 11):\n",
    "    if i % 2 == 0:\n",
    "        print(\"We have an even number - it's\", i)\n",
    "    else:\n",
    "        print(\"\\tOdd one here\", i)"
   ]
  },
  {
   "cell_type": "markdown",
   "metadata": {},
   "source": [
    "🏠 Ask ChatGPT how we could make this code shorter!\n",
    "\n",
    "🏠 For all integers between 1 and 100 (including 100), print \"Woah\" if the number is a multiplier of 3; print \"Heey\" if it's a multiplier of 5; print \"Now that's special\" if it's a multiplier of both 3 and 5; print the number itself if none of the above conditions are matcher. \n",
    "\n",
    "Hint: use a for loop, then add some control flow :)\n",
    "\n",
    "It can be implemented in different ways - think about the structure and elegance of the code. "
   ]
  },
  {
   "attachments": {},
   "cell_type": "markdown",
   "metadata": {},
   "source": [
    "## 6. `while` loops"
   ]
  },
  {
   "attachments": {},
   "cell_type": "markdown",
   "metadata": {},
   "source": [
    "![*Ad Parnassum*](images\\session_002\\klee_7_banner.jpg)"
   ]
  },
  {
   "cell_type": "code",
   "execution_count": null,
   "metadata": {},
   "outputs": [
    {
     "name": "stdout",
     "output_type": "stream",
     "text": [
      "I'm 12 old. I'm not allowed to dring alcohol!\n",
      "I'm 13 old. I'm not allowed to dring alcohol!\n",
      "I'm 14 old. I'm not allowed to dring alcohol!\n",
      "I'm 15 old. I'm not allowed to dring alcohol!\n",
      "I'm 16 old. I'm not allowed to dring alcohol!\n",
      "I'm 17 old. I'm not allowed to dring alcohol!\n",
      "Now I'm 18 years old. Moderate drinking allowed!\n"
     ]
    }
   ],
   "source": [
    "my_age = 12\n",
    "\n",
    "while my_age < 18:\n",
    "    print(\"I'm\", my_age, \"old. I'm not allowed to dring alcohol!\")\n",
    "    my_age += 1\n",
    "\n",
    "print(\"Now I'm\", my_age, \"years old. Moderate drinking allowed!\")"
   ]
  },
  {
   "cell_type": "markdown",
   "metadata": {},
   "source": [
    "Beware of never-ending loops!\n",
    "\n",
    "Our loop needs to end - we must somewhere specify a condition that enables the loop to finish!"
   ]
  },
  {
   "cell_type": "markdown",
   "metadata": {},
   "source": [
    "```{{python}}\n",
    "\n",
    "## Your computer: Please don't run this!\n",
    "\n",
    "my_bool = True\n",
    "\n",
    "while my_bool:\n",
    "    print(\"This is not going to end (well)...\")\n",
    "\n",
    "```"
   ]
  },
  {
   "cell_type": "code",
   "execution_count": null,
   "metadata": {},
   "outputs": [
    {
     "name": "stdout",
     "output_type": "stream",
     "text": [
      "a\n",
      "aa\n",
      "aaa\n",
      "aaaa\n",
      "aaaaa\n"
     ]
    }
   ],
   "source": [
    "## \"break\" statement\n",
    "\n",
    "word = \"\"\n",
    "\n",
    "while True:\n",
    "    word += \"a\"\n",
    "    print(word)\n",
    "    \n",
    "    if len(word) == 5: ## The condition that specifies when the loop should end\n",
    "        break ## Explicitely instructing the loop to end here"
   ]
  },
  {
   "cell_type": "code",
   "execution_count": null,
   "metadata": {},
   "outputs": [
    {
     "name": "stdout",
     "output_type": "stream",
     "text": [
      "2\n",
      "4\n",
      "6\n",
      "8\n",
      "10\n"
     ]
    }
   ],
   "source": [
    "## \"continue\" statement\n",
    "\n",
    "num = 0\n",
    "\n",
    "while True:\n",
    "    \n",
    "    num += 1\n",
    "    \n",
    "    if num % 2 == 0:\n",
    "        print(num)\n",
    "    else: ## For odd numbers\n",
    "        continue ## We just skip them, and move to the next iteration of the list\n",
    "    \n",
    "    if num == 10: ## The condition that specifies when the loop should end\n",
    "        break"
   ]
  },
  {
   "cell_type": "markdown",
   "metadata": {},
   "source": [
    "This example shows one important lesson of programming:\n",
    "\n",
    "Many tasks can be done in different ways.\n",
    "\n",
    "However, some techniques lend themselves better than others to the task we're trying to solve. \n",
    "\n",
    "How would you achieve the same result without using the `while` loop? \n",
    "\n",
    "Compare the syntax in terms of clarity and concisiveness."
   ]
  },
  {
   "attachments": {},
   "cell_type": "markdown",
   "metadata": {},
   "source": [
    "## 7. Homework 🏠"
   ]
  },
  {
   "attachments": {},
   "cell_type": "markdown",
   "metadata": {},
   "source": [
    "![*Revolving House*](images\\session_002\\klee_8_banner.jpg)"
   ]
  },
  {
   "cell_type": "markdown",
   "metadata": {},
   "source": [
    "🏠 Which objects are iterable in Python?"
   ]
  },
  {
   "cell_type": "markdown",
   "metadata": {},
   "source": [
    "### New data type: `tuple`"
   ]
  },
  {
   "cell_type": "markdown",
   "metadata": {},
   "source": [
    "### New data type: `set`"
   ]
  },
  {
   "attachments": {},
   "cell_type": "markdown",
   "metadata": {},
   "source": [
    "## 8. Additional Readings"
   ]
  },
  {
   "attachments": {},
   "cell_type": "markdown",
   "metadata": {},
   "source": [
    "![*Sailing Boats*](images\\session_002\\klee_9_banner.jpeg)"
   ]
  },
  {
   "attachments": {},
   "cell_type": "markdown",
   "metadata": {},
   "source": [
    "---"
   ]
  }
 ],
 "metadata": {
  "kernelspec": {
   "display_name": "base",
   "language": "python",
   "name": "python3"
  },
  "language_info": {
   "name": "python",
   "version": "3.7.6"
  },
  "orig_nbformat": 4,
  "vscode": {
   "interpreter": {
    "hash": "1cca9558bc5ad879ec93cc030b157d75f18267527c60932cecaace349eef54dd"
   }
  }
 },
 "nbformat": 4,
 "nbformat_minor": 2
}
